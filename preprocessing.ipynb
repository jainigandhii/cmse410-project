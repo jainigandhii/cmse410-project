{
 "cells": [
  {
   "cell_type": "code",
   "execution_count": 13,
   "id": "7618137a-61d3-4b45-8dc1-7573ddec4e72",
   "metadata": {},
   "outputs": [],
   "source": [
    "import numpy as np"
   ]
  },
  {
   "cell_type": "code",
   "execution_count": 9,
   "id": "573514f6-ea6d-474b-98bf-85617c110aa4",
   "metadata": {},
   "outputs": [
    {
     "name": "stderr",
     "output_type": "stream",
     "text": [
      "2025-03-25 19:57:13,583 allensdk.api.api.retrieve_file_over_http INFO     Downloading URL: http://api.brain-map.org/api/v2/well_known_file_download/742807087\n"
     ]
    }
   ],
   "source": [
    "from allensdk.core.cell_types_cache import CellTypesCache\n",
    "ctc = CellTypesCache(manifest_file='cell_types/manifest.json')  \n",
    "specimen_id = 643625553  # example cell ID  \n",
    "data_set = ctc.get_ephys_data(specimen_id)  # loads the NWB file for this cell  \n",
    "sweeps = ctc.get_ephys_sweeps(specimen_id)  # metadata for each sweep (stimulus info)\n"
   ]
  },
  {
   "cell_type": "code",
   "execution_count": 15,
   "id": "75430a9c-0a4a-4c11-8ad0-2ecaed9c2a38",
   "metadata": {},
   "outputs": [],
   "source": [
    "sweep_data = data_set.get_sweep(30)  \n",
    "# sweep_data is a dict with 'stimulus', 'response', etc. as numpy arrays  \n",
    "v = sweep_data[\"response\"] * 1000  # convert Volts to millivolts  \n",
    "i = sweep_data[\"stimulus\"] * 1e12  # convert Amps to picoamps  \n",
    "t = np.arange(len(v)) / sweep_data[\"sampling_rate\"]  # time array in seconds  "
   ]
  },
  {
   "cell_type": "code",
   "execution_count": 17,
   "id": "4da2d2a6-517f-471b-804d-0c4b4b0a6823",
   "metadata": {},
   "outputs": [
    {
     "name": "stdout",
     "output_type": "stream",
     "text": [
      "Detected spikes at times (s): [1.07084 1.08146]\n"
     ]
    }
   ],
   "source": [
    "from allensdk.ephys.ephys_extractor import EphysSweepFeatureExtractor  \n",
    "sweep_ext = EphysSweepFeatureExtractor(t=t, v=v, i=i, start=1.0, end=2.0)  \n",
    "sweep_ext.process_spikes()  \n",
    "spike_times = sweep_ext.spike_feature(\"threshold_t\")  # spike threshold times  \n",
    "print(\"Detected spikes at times (s):\", spike_times)  \n"
   ]
  },
  {
   "cell_type": "code",
   "execution_count": 19,
   "id": "04c6af73-bc12-4e69-960c-fd5c1d2b2079",
   "metadata": {},
   "outputs": [
    {
     "name": "stdout",
     "output_type": "stream",
     "text": [
      "Mean ISI (s): 0.010620000000000074\n",
      "Spike count: 2\n"
     ]
    }
   ],
   "source": [
    "isi = np.diff(spike_times)  # array of ISIs  \n",
    "print(\"Mean ISI (s):\", isi.mean())  \n",
    "print(\"Spike count:\", len(spike_times))  "
   ]
  },
  {
   "cell_type": "code",
   "execution_count": null,
   "id": "1f9898b0-62ce-43cd-8ebd-7c1516a912d4",
   "metadata": {},
   "outputs": [],
   "source": []
  }
 ],
 "metadata": {
  "kernelspec": {
   "display_name": "Python 3 (ipykernel)",
   "language": "python",
   "name": "python3"
  },
  "language_info": {
   "codemirror_mode": {
    "name": "ipython",
    "version": 3
   },
   "file_extension": ".py",
   "mimetype": "text/x-python",
   "name": "python",
   "nbconvert_exporter": "python",
   "pygments_lexer": "ipython3",
   "version": "3.11.8"
  }
 },
 "nbformat": 4,
 "nbformat_minor": 5
}
