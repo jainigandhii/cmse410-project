{
 "cells": [
  {
   "attachments": {},
   "cell_type": "markdown",
   "id": "54e1520c-8e74-49ca-a659-b238d3a3b61b",
   "metadata": {},
   "source": [
    "# Machine Learning in Neuronal Modeling: A Comparative Analysis and Implementation"
   ]
  },
  {
   "cell_type": "markdown",
   "id": "01529769-207a-42c6-82b5-3c6a87eb0591",
   "metadata": {},
   "source": [
    "Understanding how neurons respond to stimuli is a fundamental problem in neuroscience. This project explores whether we can predict spike counts (number of action potentials) in human neurons using machine learning, based on stimulus waveforms and voltage responses. \n",
    "The motivation behind this work is twofold:\n",
    "- To apply computational models in neurophysiology and understand stimulus-spike relationships\n",
    "- To evaluate the viability of artificial neural networks (ANNs) in modeling biological neural activit"
   ]
  },
  {
   "cell_type": "markdown",
   "id": "9391a793-ee1c-4ebb-b597-105e90fa1bd3",
   "metadata": {},
   "source": [
    "### Biological and Computational Motivation"
   ]
  },
  {
   "cell_type": "markdown",
   "id": "f5d6b0c5-bd9c-4bbe-b42b-2796f53e24f2",
   "metadata": {},
   "source": [
    "Spike trains are key to how neurons encode and transmit information. However, even when the same stimulus is presented to different neurons, the spiking behavior can vary dramatically.\n",
    "\n",
    "By training models to predict spike counts, we aim to identify patterns in stimulus-response relationships, with the long-term goal of contributing toward better brain-computer interfaces and neuroprosthetics.\n",
    "\n",
    "Artificial neural networks (ANNs) seemed like a natural starting point because they are biologically inspired and flexible enough to model complex non-linear systems."
   ]
  },
  {
   "cell_type": "markdown",
   "id": "63523147-ca78-4518-a4ef-5192d9af16c8",
   "metadata": {},
   "source": [
    "### Dataset Overview: Allen Cell Types Database (Human Neurons)"
   ]
  },
  {
   "cell_type": "markdown",
   "id": "86e68075-fcde-484e-93b4-d804f18e55f9",
   "metadata": {},
   "source": [
    "The Allen Brain Atlas is a large-scale open-access repository of standardized electrophysiology data. For this project, we used the human dataset from the Cell Types Database. \n",
    "**Key dataset details:**\n",
    "- Source: [Allen Cell Types Database](https://celltypes.brain-map.org/)\n",
    "- Species: Human (Homo sapiens)\n",
    "- Number of neurons: 413\n",
    "- Data includes: Stimulus waveform (pA), voltage trace (mV), spike timings, metadata (cell ID, sweep ID)\n",
    "\n",
    "The electrophysiology sweeps consist of current-clamp recordings in response to step or ramp current injections."
   ]
  },
  {
   "cell_type": "markdown",
   "id": "80c469aa-f421-4aa3-8408-b81fb9894ced",
   "metadata": {},
   "source": [
    "## Why Machine Learning?"
   ]
  },
  {
   "cell_type": "markdown",
   "id": "f0e9706f-43da-45cd-a127-f313ea8ce802",
   "metadata": {},
   "source": [
    "Traditional approaches for modeling neuronal spiking involve biophysical simulations like the Hodgkin-Huxley model, which require detailed ion channel kinetics and are computationally intensive. In contrast, machine learning can abstract away from those low-level details and attempt to capture spiking patterns directly from observed data.\n",
    "\n",
    "This is particularly useful when working with large datasets like AllenDB, and allows us to test the feasibility of predictive modeling without explicit mechanistic descriptions.\n"
   ]
  }
 ],
 "metadata": {
  "kernelspec": {
   "display_name": "Python 3 (ipykernel)",
   "language": "python",
   "name": "python3"
  },
  "language_info": {
   "codemirror_mode": {
    "name": "ipython",
    "version": 3
   },
   "file_extension": ".py",
   "mimetype": "text/x-python",
   "name": "python",
   "nbconvert_exporter": "python",
   "pygments_lexer": "ipython3",
   "version": "3.11.8"
  }
 },
 "nbformat": 4,
 "nbformat_minor": 5
}
